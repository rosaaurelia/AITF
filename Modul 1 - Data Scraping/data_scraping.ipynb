{
 "cells": [
  {
   "cell_type": "code",
   "execution_count": 11,
   "id": "83b45d98",
   "metadata": {},
   "outputs": [],
   "source": [
    "from bs4 import BeautifulSoup as bs\n",
    "import requests\n",
    "import pandas as pd"
   ]
  },
  {
   "cell_type": "code",
   "execution_count": 12,
   "id": "8ec57872",
   "metadata": {},
   "outputs": [
    {
     "name": "stdout",
     "output_type": "stream",
     "text": [
      "Countries of the World: A Simple Example | Scrape This Site | A public sandbox for learning web scraping\n"
     ]
    }
   ],
   "source": [
    "url = 'https://www.scrapethissite.com/pages/simple/'\n",
    "response = requests.get(url)\n",
    "response\n",
    "\n",
    "soup = bs(response.text, \"html.parser\")\n",
    "type(soup)\n",
    "print(soup.title.text.strip())"
   ]
  },
  {
   "cell_type": "code",
   "execution_count": 13,
   "id": "c92acbb2",
   "metadata": {},
   "outputs": [
    {
     "name": "stdout",
     "output_type": "stream",
     "text": [
      "[<div class=\"col-md-4 country\">\n",
      "<h3 class=\"country-name\">\n",
      "<i class=\"flag-icon flag-icon-ad\"></i>\n",
      "                            Andorra\n",
      "                        </h3>\n",
      "<div class=\"country-info\">\n",
      "<strong>Capital:</strong> <span class=\"country-capital\">Andorra la Vella</span><br/>\n",
      "<strong>Population:</strong> <span class=\"country-population\">84000</span><br/>\n",
      "<strong>Area (km<sup>2</sup>):</strong> <span class=\"country-area\">468.0</span><br/>\n",
      "</div>\n",
      "</div>, <div class=\"col-md-4 country\">\n",
      "<h3 class=\"country-name\">\n",
      "<i class=\"flag-icon flag-icon-ae\"></i>\n",
      "                            United Arab Emirates\n",
      "                        </h3>\n",
      "<div class=\"country-info\">\n",
      "<strong>Capital:</strong> <span class=\"country-capital\">Abu Dhabi</span><br/>\n",
      "<strong>Population:</strong> <span class=\"country-population\">4975593</span><br/>\n",
      "<strong>Area (km<sup>2</sup>):</strong> <span class=\"country-area\">82880.0</span><br/>\n",
      "</div>\n",
      "</div>]\n"
     ]
    }
   ],
   "source": [
    "soup.find_all('div')\n",
    "country_all=soup.find_all('div', class_=\"col-md-4 country\")\n",
    "print (country_all[:2])"
   ]
  },
  {
   "cell_type": "code",
   "execution_count": 14,
   "id": "07e39dbd",
   "metadata": {},
   "outputs": [],
   "source": [
    "def get_details(country_one):\n",
    "  country_name = country_one.find('h3', class_='country-name').text.strip()\n",
    "  capital_name = country_one.find('span', class_='country-capital').text\n",
    "  population = country_one.find('span', class_='country-population').text\n",
    "  area = country_one.find('span', class_='country-area').text\n",
    "  return country_name,capital_name, population, area"
   ]
  },
  {
   "cell_type": "code",
   "execution_count": null,
   "id": "4a96f3c9",
   "metadata": {},
   "outputs": [],
   "source": [
    "def get_soup(url):\n",
    "    resp = requests.get(url)\n",
    "    resp.raise_for_status()\n",
    "    return bs(resp.text, \"html.parser\")\n",
    "\n",
    "\n",
    "def get_countries(url):\n",
    "    \"\"\"Extact details from all the countries\"\"\"\n",
    "    soup = get_soup(url)\n",
    "    if not soup:\n",
    "        return []\n",
    "    \n",
    "    country_all = soup.find_all('div', class_=\"col-md-4 country\")\n",
    "    countries = []\n",
    "    for country in country_all:\n",
    "        details = get_details(country)\n",
    "        countries.append({\n",
    "            'Country': details[0],\n",
    "            'Capital': details[1],\n",
    "            'Population': int(details[2]),\n",
    "            'Area': float(details[3]) \n",
    "        })\n",
    "\n",
    "    return countries"
   ]
  },
  {
   "cell_type": "code",
   "execution_count": null,
   "id": "e2cf77c9",
   "metadata": {},
   "outputs": [
    {
     "data": {
      "text/plain": [
       "[{'Country': 'Andorra',\n",
       "  'Capital': 'Andorra la Vella',\n",
       "  'Population': 84000,\n",
       "  'Area': 468.0},\n",
       " {'Country': 'United Arab Emirates',\n",
       "  'Capital': 'Abu Dhabi',\n",
       "  'Population': 4975593,\n",
       "  'Area': 82880.0},\n",
       " {'Country': 'Afghanistan',\n",
       "  'Capital': 'Kabul',\n",
       "  'Population': 29121286,\n",
       "  'Area': 647500.0},\n",
       " {'Country': 'Antigua and Barbuda',\n",
       "  'Capital': \"St. John's\",\n",
       "  'Population': 86754,\n",
       "  'Area': 443.0},\n",
       " {'Country': 'Anguilla',\n",
       "  'Capital': 'The Valley',\n",
       "  'Population': 13254,\n",
       "  'Area': 102.0},\n",
       " {'Country': 'Albania',\n",
       "  'Capital': 'Tirana',\n",
       "  'Population': 2986952,\n",
       "  'Area': 28748.0},\n",
       " {'Country': 'Armenia',\n",
       "  'Capital': 'Yerevan',\n",
       "  'Population': 2968000,\n",
       "  'Area': 29800.0},\n",
       " {'Country': 'Angola',\n",
       "  'Capital': 'Luanda',\n",
       "  'Population': 13068161,\n",
       "  'Area': 1246700.0},\n",
       " {'Country': 'Antarctica',\n",
       "  'Capital': 'None',\n",
       "  'Population': 0,\n",
       "  'Area': 14000000.0},\n",
       " {'Country': 'Argentina',\n",
       "  'Capital': 'Buenos Aires',\n",
       "  'Population': 41343201,\n",
       "  'Area': 2766890.0}]"
      ]
     },
     "execution_count": 18,
     "metadata": {},
     "output_type": "execute_result"
    }
   ],
   "source": [
    "countries = get_countries(url)\n",
    "len(countries)\n",
    "countries[:10]"
   ]
  },
  {
   "cell_type": "code",
   "execution_count": 17,
   "id": "30aaf6fc",
   "metadata": {},
   "outputs": [
    {
     "name": "stdout",
     "output_type": "stream",
     "text": [
      "                  Country           Capital  Population       Area\n",
      "0                 Andorra  Andorra la Vella       84000      468.0\n",
      "1    United Arab Emirates         Abu Dhabi     4975593    82880.0\n",
      "2             Afghanistan             Kabul    29121286   647500.0\n",
      "3     Antigua and Barbuda        St. John's       86754      443.0\n",
      "4                Anguilla        The Valley       13254      102.0\n",
      "..                    ...               ...         ...        ...\n",
      "245                 Yemen             Sanaa    23495361   527970.0\n",
      "246               Mayotte         Mamoudzou      159042      374.0\n",
      "247          South Africa          Pretoria    49000000  1219912.0\n",
      "248                Zambia            Lusaka    13460305   752614.0\n",
      "249              Zimbabwe            Harare    11651858   390580.0\n",
      "\n",
      "[250 rows x 4 columns]\n"
     ]
    }
   ],
   "source": [
    "df = pd.DataFrame(countries)\n",
    "\n",
    "print(df)"
   ]
  },
  {
   "cell_type": "code",
   "execution_count": 19,
   "id": "75db3d4c",
   "metadata": {},
   "outputs": [
    {
     "name": "stdout",
     "output_type": "stream",
     "text": [
      "DataFrame telah berhasil disimpan ke countries_data.csv\n"
     ]
    }
   ],
   "source": [
    "df.to_csv('countries_data.csv', index=False, encoding='utf-8')\n",
    "\n",
    "print(\"DataFrame telah berhasil disimpan ke countries_data.csv\")"
   ]
  }
 ],
 "metadata": {
  "kernelspec": {
   "display_name": "Python 3",
   "language": "python",
   "name": "python3"
  },
  "language_info": {
   "codemirror_mode": {
    "name": "ipython",
    "version": 3
   },
   "file_extension": ".py",
   "mimetype": "text/x-python",
   "name": "python",
   "nbconvert_exporter": "python",
   "pygments_lexer": "ipython3",
   "version": "3.12.6"
  }
 },
 "nbformat": 4,
 "nbformat_minor": 5
}
