{
 "cells": [
  {
   "cell_type": "code",
   "execution_count": null,
   "id": "08c0abc9",
   "metadata": {},
   "outputs": [],
   "source": [
    "# Identifikasi data target dan lakukan pelabelan\n",
    "# Dalam dataset iris, kolom 'target' sudah mewakili label kelas (0, 1, 2).\n",
    "# Namun, jika diperlukan pelabelan yang lebih spesifik berdasarkan SOP,\n",
    "# kita bisa melakukan mapping label sesuai dengan kebutuhan.\n",
    "\n",
    "# Misalnya, jika SOP menentukan bahwa:\n",
    "# - target 0: Setosa\n",
    "# - target 1: Versicolor\n",
    "# - target 2: Virginica\n",
    "\n",
    "# Kita bisa membuat mapping label seperti ini:\n",
    "label_mapping = {\n",
    "    0: 'Setosa',\n",
    "    1: 'Versicolor',\n",
    "    2: 'Virginica'\n",
    "}\n",
    "\n",
    "# Buat kolom baru 'target_label' yang berisi label teks\n",
    "df['target_label'] = df['target'].map(label_mapping)\n",
    "\n",
    "# Tampilkan data dengan label baru\n",
    "print(\"\\nData dengan label berdasarkan SOP:\")\n",
    "print(df.head())"
   ]
  }
 ],
 "metadata": {
  "language_info": {
   "name": "python"
  }
 },
 "nbformat": 4,
 "nbformat_minor": 5
}
