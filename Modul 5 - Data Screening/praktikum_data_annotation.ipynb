{
 "cells": [
  {
   "cell_type": "markdown",
   "id": "bce952c9",
   "metadata": {},
   "source": [
    "Data Screening atau Validasi data pada praktikum ini menggunakan dataset wine yang sudah digunakan dan dilakukan anotasi pada praktikum sbeelumnya"
   ]
  },
  {
   "cell_type": "markdown",
   "id": "5c7ebf82",
   "metadata": {},
   "source": [
    "## Import Library dan dan Dataset Wine"
   ]
  },
  {
   "cell_type": "code",
   "execution_count": 7,
   "id": "52d3a0d6",
   "metadata": {},
   "outputs": [
    {
     "name": "stdout",
     "output_type": "stream",
     "text": [
      "   alcohol  malic_acid   ash  alcalinity_of_ash  magnesium  total_phenols  \\\n",
      "0    14.23        1.71  2.43               15.6      127.0           2.80   \n",
      "1    13.20        1.78  2.14               11.2      100.0           2.65   \n",
      "2    13.16        2.36  2.67               18.6      101.0           2.80   \n",
      "3    14.37        1.95  2.50               16.8      113.0           3.85   \n",
      "4    13.24        2.59  2.87               21.0      118.0           2.80   \n",
      "\n",
      "   flavanoids  nonflavanoid_phenols  proanthocyanins  color_intensity   hue  \\\n",
      "0        3.06                  0.28             2.29             5.64  1.04   \n",
      "1        2.76                  0.26             1.28             4.38  1.05   \n",
      "2        3.24                  0.30             2.81             5.68  1.03   \n",
      "3        3.49                  0.24             2.18             7.80  0.86   \n",
      "4        2.69                  0.39             1.82             4.32  1.04   \n",
      "\n",
      "   od280/od315_of_diluted_wines  proline  \n",
      "0                          3.92   1065.0  \n",
      "1                          3.40   1050.0  \n",
      "2                          3.17   1185.0  \n",
      "3                          3.45   1480.0  \n",
      "4                          2.93    735.0  \n"
     ]
    }
   ],
   "source": [
    "from sklearn.datasets import load_wine\n",
    "import pandas as pd\n",
    "import seaborn as sns\n",
    "import matplotlib.pyplot as plt\n",
    "\n",
    "# Load dataset\n",
    "wine = load_wine()\n",
    "df = pd.DataFrame(wine.data, columns=wine.feature_names)\n",
    "\n",
    "# Cek dataset\n",
    "print(df.head())"
   ]
  },
  {
   "cell_type": "markdown",
   "id": "eea46b81",
   "metadata": {},
   "source": [
    "## Lakukan Annotation"
   ]
  },
  {
   "cell_type": "code",
   "execution_count": 8,
   "id": "4067b13d",
   "metadata": {},
   "outputs": [
    {
     "name": "stdout",
     "output_type": "stream",
     "text": [
      "['class_0' 'class_1' 'class_2']\n"
     ]
    }
   ],
   "source": [
    "# Nama Class\n",
    "print(wine.target_names)  "
   ]
  },
  {
   "cell_type": "code",
   "execution_count": 9,
   "id": "dfefda69",
   "metadata": {},
   "outputs": [
    {
     "name": "stdout",
     "output_type": "stream",
     "text": [
      "   alcohol  malic_acid   ash  alcalinity_of_ash  magnesium  total_phenols  \\\n",
      "0    14.23        1.71  2.43               15.6      127.0           2.80   \n",
      "1    13.20        1.78  2.14               11.2      100.0           2.65   \n",
      "2    13.16        2.36  2.67               18.6      101.0           2.80   \n",
      "3    14.37        1.95  2.50               16.8      113.0           3.85   \n",
      "4    13.24        2.59  2.87               21.0      118.0           2.80   \n",
      "\n",
      "   flavanoids  nonflavanoid_phenols  proanthocyanins  color_intensity   hue  \\\n",
      "0        3.06                  0.28             2.29             5.64  1.04   \n",
      "1        2.76                  0.26             1.28             4.38  1.05   \n",
      "2        3.24                  0.30             2.81             5.68  1.03   \n",
      "3        3.49                  0.24             2.18             7.80  0.86   \n",
      "4        2.69                  0.39             1.82             4.32  1.04   \n",
      "\n",
      "   od280/od315_of_diluted_wines  proline  label  \n",
      "0                          3.92   1065.0      0  \n",
      "1                          3.40   1050.0      0  \n",
      "2                          3.17   1185.0      0  \n",
      "3                          3.45   1480.0      0  \n",
      "4                          2.93    735.0      0  \n",
      "label\n",
      "1    71\n",
      "0    59\n",
      "2    48\n",
      "Name: count, dtype: int64\n"
     ]
    }
   ],
   "source": [
    "# lakukan labeling\n",
    "df['label'] = wine.target\n",
    "\n",
    "print(df.head())\n",
    "print(df['label'].value_counts())"
   ]
  },
  {
   "cell_type": "markdown",
   "id": "fb4ac7aa",
   "metadata": {},
   "source": [
    "## Mapping label angka ke nama class"
   ]
  },
  {
   "cell_type": "code",
   "execution_count": 10,
   "id": "178921b3",
   "metadata": {},
   "outputs": [
    {
     "name": "stdout",
     "output_type": "stream",
     "text": [
      "   label label_name\n",
      "0      0    class_0\n",
      "1      0    class_0\n",
      "2      0    class_0\n",
      "3      0    class_0\n",
      "4      0    class_0\n"
     ]
    }
   ],
   "source": [
    "# Mapping angka ke nama class\n",
    "label_mapping = {i: name for i, name in enumerate(wine.target_names)}\n",
    "df[\"label_name\"] = df[\"label\"].map(label_mapping)\n",
    "\n",
    "# Cek hasil\n",
    "print(df[[\"label\", \"label_name\"]].head())"
   ]
  },
  {
   "cell_type": "markdown",
   "id": "7117b704",
   "metadata": {},
   "source": [
    "## Lihat Distribusi Kelas"
   ]
  },
  {
   "cell_type": "code",
   "execution_count": 11,
   "id": "35054184",
   "metadata": {},
   "outputs": [
    {
     "data": {
      "image/png": "[encoded data removed]",
      "text/plain": [
       "<Figure size 640x480 with 1 Axes>"
      ]
     },
     "metadata": {},
     "output_type": "display_data"
    }
   ],
   "source": [
    "sns.countplot(x=\"label_name\", data=df)\n",
    "plt.title(\"Distribusi Label Wine\")\n",
    "plt.show()"
   ]
  },
  {
   "cell_type": "markdown",
   "id": "14674edf",
   "metadata": {},
   "source": [
    "## Data Validation"
   ]
  },
  {
   "cell_type": "code",
   "execution_count": null,
   "id": "696b95c1",
   "metadata": {},
   "outputs": [],
   "source": []
  }
 ],
 "metadata": {
  "kernelspec": {
   "display_name": "Python 3",
   "language": "python",
   "name": "python3"
  },
  "language_info": {
   "codemirror_mode": {
    "name": "ipython",
    "version": 3
   },
   "file_extension": ".py",
   "mimetype": "text/x-python",
   "name": "python",
   "nbconvert_exporter": "python",
   "pygments_lexer": "ipython3",
   "version": "3.12.6"
  }
 },
 "nbformat": 4,
 "nbformat_minor": 5
}
